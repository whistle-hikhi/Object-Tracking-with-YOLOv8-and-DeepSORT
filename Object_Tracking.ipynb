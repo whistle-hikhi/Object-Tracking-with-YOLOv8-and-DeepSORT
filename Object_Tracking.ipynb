{
  "nbformat": 4,
  "nbformat_minor": 0,
  "metadata": {
    "colab": {
      "provenance": [],
      "authorship_tag": "ABX9TyPLzfd4trGWh7opGkBuyyqS"
    },
    "kernelspec": {
      "name": "python3",
      "display_name": "Python 3"
    },
    "language_info": {
      "name": "python"
    }
  },
  "cells": [
    {
      "cell_type": "markdown",
      "source": [
        "# Download Dataset (MOT17)"
      ],
      "metadata": {
        "id": "-8pkT39uIAh-"
      }
    },
    {
      "cell_type": "code",
      "source": [
        "!wget https://motchallenge.net/data/MOT17.zip"
      ],
      "metadata": {
        "id": "cT4mUwxbIEEk"
      },
      "execution_count": null,
      "outputs": []
    },
    {
      "cell_type": "code",
      "source": [
        "!unzip-qq MOT17.zip"
      ],
      "metadata": {
        "id": "yAxO0OpBIH_G"
      },
      "execution_count": null,
      "outputs": []
    },
    {
      "cell_type": "markdown",
      "source": [
        "## Import Libraries"
      ],
      "metadata": {
        "id": "z5LY_x00IMwl"
      }
    },
    {
      "cell_type": "code",
      "source": [
        "import pandas as pd\n",
        "import os\n",
        "import yaml\n",
        "import shutil\n",
        "import configparser\n",
        "\n",
        "from tqdm import tqdm"
      ],
      "metadata": {
        "id": "MjE07r0GIN-J"
      },
      "execution_count": null,
      "outputs": []
    },
    {
      "cell_type": "markdown",
      "source": [
        "## Normalize bounding box"
      ],
      "metadata": {
        "id": "b_D0zjZpISI2"
      }
    },
    {
      "cell_type": "code",
      "source": [
        "def convert_to_yolo_format(bb, img_width, img_height):\n",
        "    x_center = bb['bb_left'] + (bb['bb_width'] / 2)\n",
        "    y_center = bb['bb_top'] + (bb['bb_height'] / 2)\n",
        "    # Normalize the coordinates by the dimensions of the image\n",
        "    x_center /= img_width\n",
        "    y_center /= img_height\n",
        "    bb_width_normalized = bb['bb_width'] / img_width\n",
        "    bb_height_normalized = bb['bb_height'] / img_height\n",
        "\n",
        "    # Clip the values to make sure they are between 0 and 1\n",
        "    x_center = max(min(x_center, 1), 0)\n",
        "    y_center = max(min(y_center, 1), 0)\n",
        "    bb_width_normalized = max(min(bb_width_normalized, 1), 0)\n",
        "    bb_height_normalized = max(min(bb_height_normalized, 1), 0)\n",
        "\n",
        "    return (x_center, y_center, bb_width_normalized, bb_height_normalized)"
      ],
      "metadata": {
        "id": "Lx6UnEcLIU0i"
      },
      "execution_count": null,
      "outputs": []
    },
    {
      "cell_type": "markdown",
      "source": [
        "## Read file seqinfo.ini"
      ],
      "metadata": {
        "id": "BxoDXpyZIYyR"
      }
    },
    {
      "cell_type": "code",
      "source": [
        "def process_folder(folder_path):\n",
        "    # Read image dimensions from seqinfo.ini\n",
        "    config = configparser.ConfigParser()\n",
        "    config.read(os.path.join(folder_path, 'seqinfo.ini'))\n",
        "    img_width = int(config['Sequence']['imWidth'])\n",
        "    img_height = int(config['Sequence']['imHeight'])\n",
        "\n",
        "    # Load ground truth data\n",
        "    gt_path = os.path.join(folder_path, 'det/det.txt')\n",
        "    gt_data = pd.read_csv(gt_path, header=None, names=['frame', 'id', 'bb_left', 'bb_top', 'bb_width', 'bb_height', 'conf', 'class', 'visibility'])\n",
        "\n",
        "    labels_folder = os.path.join(folder_path, 'labels')\n",
        "    os.makedirs(labels_folder, exist_ok=True)\n",
        "\n",
        "    for frame_number in gt_data['frame'].unique():\n",
        "        frame_data = gt_data[gt_data['frame'] == frame_number]\n",
        "        label_file = os.path.join(labels_folder, f'{frame_number:06d}.txt')\n",
        "\n",
        "        with open(label_file, 'w') as file:\n",
        "            for _, row in frame_data.iterrows():\n",
        "                yolo_bb = convert_to_yolo_format(row, img_width, img_height)\n",
        "                file.write(f'0 {yolo_bb[0]} {yolo_bb[1]} {yolo_bb[2]} {yolo_bb[3]}\\n')"
      ],
      "metadata": {
        "id": "ev1KkZABIa67"
      },
      "execution_count": null,
      "outputs": []
    },
    {
      "cell_type": "markdown",
      "source": [
        "## Process dataset"
      ],
      "metadata": {
        "id": "vQHEB1i8Ie_e"
      }
    },
    {
      "cell_type": "code",
      "source": [
        "def process_all_folders(base_directory):\n",
        "    # List all subdirectories in the base directory\n",
        "    for folder_name in tqdm(os.listdir(base_directory)):\n",
        "        folder_path = os.path.join(base_directory, folder_name)\n",
        "\n",
        "        # Delete folder not contain ’FRCNN’ in name\n",
        "        if 'FRCNN' not in folder_name:\n",
        "            os.system(f'rm-rf {folder_path}')\n",
        "            continue\n",
        "\n",
        "        if os.path.isdir(folder_path):\n",
        "            process_folder(folder_path)"
      ],
      "metadata": {
        "id": "R8SHlBSuIg-U"
      },
      "execution_count": null,
      "outputs": []
    },
    {
      "cell_type": "code",
      "source": [
        "process_all_folders('MOT17/train')\n",
        "process_all_folders('MOT17/test')"
      ],
      "metadata": {
        "id": "QGtC1KCKIi2d"
      },
      "execution_count": null,
      "outputs": []
    },
    {
      "cell_type": "markdown",
      "source": [
        "## Move files"
      ],
      "metadata": {
        "id": "28zHreBKIwwQ"
      }
    },
    {
      "cell_type": "code",
      "source": [
        "def rename_and_move_files(src_folder, dst_folder,folder_name, file_extension):\n",
        "\n",
        "    for filename in os.listdir(src_folder):\n",
        "        if filename.endswith(file_extension):\n",
        "            # Include folder name in the new filename\n",
        "            new_filename = f'{folder_name}_{filename}'\n",
        "            shutil.move(os.path.join(src_folder, filename), os.path.join(dst_folder, new_filename))"
      ],
      "metadata": {
        "id": "OrNfJ2KZI0DV"
      },
      "execution_count": null,
      "outputs": []
    },
    {
      "cell_type": "markdown",
      "source": [
        "## Move all files"
      ],
      "metadata": {
        "id": "M24flxeBI2HX"
      }
    },
    {
      "cell_type": "code",
      "source": [
        "def move_files_all_folders(base_directory):\n",
        "    images_dir = os.path.join(base_directory, 'images')\n",
        "    labels_dir = os.path.join(base_directory, 'labels')\n",
        "    os.makedirs(images_dir, exist_ok=True)\n",
        "    os.makedirs(labels_dir, exist_ok=True)\n",
        "    for folder_name in tqdm(os.listdir(base_directory)):\n",
        "        if folder_name in ['images', 'labels']: # Skip these folders\n",
        "            continue\n",
        "        folder_path = os.path.join(base_directory, folder_name)\n",
        "        if os.path.isdir(folder_path):\n",
        "            rename_and_move_files(os.path.join(folder_path, 'img1'),images_dir, folder_name, '.jpg')\n",
        "            rename_and_move_files(os.path.join(folder_path, 'labels'),labels_dir, folder_name, '.txt')\n"
      ],
      "metadata": {
        "id": "ADqvnePrI3yy"
      },
      "execution_count": null,
      "outputs": []
    },
    {
      "cell_type": "markdown",
      "source": [
        "## Delete subfolders"
      ],
      "metadata": {
        "id": "uiAFy_vII7z1"
      }
    },
    {
      "cell_type": "code",
      "source": [
        "def delete_subfolders(base_directory):\n",
        "    for folder_name in os.listdir(base_directory):\n",
        "        folder_path = os.path.join(base_directory, folder_name)\n",
        "        if os.path.isdir(folder_path) and folder_name not in ['images', 'labels']:\n",
        "            shutil.rmtree(folder_path)\n",
        "            print(f\"Deleted folder: {folder_name}\")\n",
        "\n",
        "delete_subfolders('MOT17/train')\n",
        "delete_subfolders('MOT17/test')"
      ],
      "metadata": {
        "id": "BptqOSHBI9gt"
      },
      "execution_count": null,
      "outputs": []
    },
    {
      "cell_type": "markdown",
      "source": [
        "## Setup yaml file"
      ],
      "metadata": {
        "id": "QHX-pP-VJEFH"
      }
    },
    {
      "cell_type": "code",
      "source": [
        "class_labels = ['objects']\n",
        "dataset_root_dir = os.path.join(\n",
        "    os.getcwd(),\n",
        "    'MOT17'\n",
        ")\n",
        "yolo_yaml_path = os.path.join(\n",
        "    dataset_root_dir,\n",
        "    'mot17_data.yml'\n",
        ")\n",
        "\n",
        "data_yaml = {\n",
        "    'path': dataset_root_dir,\n",
        "    'train': 'train/images',\n",
        "    'val': 'test/images',\n",
        "    'nc': len(class_labels),\n",
        "    'names': class_labels\n",
        "}\n",
        "\n",
        "with open(yolo_yaml_path, 'w') as f:\n",
        "    yaml.dump(data_yaml, f, default_flow_style=False)"
      ],
      "metadata": {
        "id": "2QqL1iB3I_gZ"
      },
      "execution_count": null,
      "outputs": []
    },
    {
      "cell_type": "markdown",
      "source": [
        "# Module Detector YOLOv8"
      ],
      "metadata": {
        "id": "ygfjUNNVJH9T"
      }
    },
    {
      "cell_type": "markdown",
      "source": [
        "## Import Ultralytics"
      ],
      "metadata": {
        "id": "uu_J7aIBJLTn"
      }
    },
    {
      "cell_type": "code",
      "source": [
        "!pip install ultralytics-q\n",
        "\n",
        "import ultralytics\n",
        "ultralytics.checks()"
      ],
      "metadata": {
        "id": "jK5-1aQqJKq3"
      },
      "execution_count": null,
      "outputs": []
    },
    {
      "cell_type": "code",
      "source": [
        "from ultralytics import YOLO"
      ],
      "metadata": {
        "id": "JRdjpC2rJPyp"
      },
      "execution_count": null,
      "outputs": []
    },
    {
      "cell_type": "markdown",
      "source": [
        "## Training Model"
      ],
      "metadata": {
        "id": "oeaa5KToJTg8"
      }
    },
    {
      "cell_type": "code",
      "source": [
        "from ultralytics import YOLO\n",
        "# Load the YOLOv8 model\n",
        "model = YOLO('yolov8s.pt')\n",
        "\n",
        "# Config\n",
        "epochs = 30\n",
        "batch_size =-1 # Auto scale based on GPU memory\n",
        "img_size = 640\n",
        "project_name = 'models/yolo'\n",
        "name = 'yolov8s_mot17_det'\n",
        "\n",
        "# Train the model\n",
        "results = model.train(\n",
        " data=yolo_yaml_path,\n",
        " epochs=epochs,\n",
        " batch=batch_size,\n",
        " imgsz=img_size,\n",
        " project=project_name,\n",
        " name=name)"
      ],
      "metadata": {
        "id": "CwSDABImJUs4"
      },
      "execution_count": null,
      "outputs": []
    },
    {
      "cell_type": "markdown",
      "source": [
        "## Class Detector"
      ],
      "metadata": {
        "id": "1obT1lPmJXds"
      }
    },
    {
      "cell_type": "code",
      "source": [
        "from ultralytics import YOLO\n",
        "\n",
        "class YOLOv8:\n",
        "    def __init__(\n",
        "        self,\n",
        "        model_path\n",
        "    ):\n",
        "        self.model = YOLO(model_path)\n",
        "    def detect(self, source_img):\n",
        "        results = self.model.predict(source_img, verbose=False)[0]\n",
        "        bboxes = results.boxes.xywh.cpu().numpy()\n",
        "        bboxes[:, :2] = bboxes[:, :2]- (bboxes[:, 2:] / 2)\n",
        "        scores = results.boxes.conf.cpu().numpy()\n",
        "        class_ids = results.boxes.cls.cpu().numpy()\n",
        "        return bboxes, scores, class_ids"
      ],
      "metadata": {
        "id": "x2s84TWkJZda"
      },
      "execution_count": null,
      "outputs": []
    },
    {
      "cell_type": "markdown",
      "source": [
        "# Module Tracker: DeepSORT"
      ],
      "metadata": {
        "id": "eNyIKCtjJb8W"
      }
    },
    {
      "cell_type": "code",
      "source": [
        "!pip install scikit-learn numpy opencv-python tensorflow spacy-q\n",
        "!pip install gdown==4.6.0-q"
      ],
      "metadata": {
        "id": "DNHLZ9GCJd9o"
      },
      "execution_count": null,
      "outputs": []
    },
    {
      "cell_type": "code",
      "source": [
        "!git clone https://github.com/wjnwjn59/deep_sort.git"
      ],
      "metadata": {
        "id": "AbodQVU7JgMZ"
      },
      "execution_count": null,
      "outputs": []
    },
    {
      "cell_type": "code",
      "source": [
        "!gdown--no-check-certificate--folder https://drive.google.com/open?id=18fKzfqnqhqW3s9zwsCbnVJ5XF2JFeqMp"
      ],
      "metadata": {
        "id": "K0DaFoFYJlyX"
      },
      "execution_count": null,
      "outputs": []
    },
    {
      "cell_type": "code",
      "source": [
        "import os\n",
        "import cv2\n",
        "import numpy as np"
      ],
      "metadata": {
        "id": "CZe3IIw3Jo3G"
      },
      "execution_count": null,
      "outputs": []
    },
    {
      "cell_type": "markdown",
      "source": [
        "## Class Tracker"
      ],
      "metadata": {
        "id": "fbsayidzJq9C"
      }
    },
    {
      "cell_type": "code",
      "source": [
        "from deep_sort.deep_sort import nn_matching\n",
        "from deep_sort.deep_sort.detection import Detection\n",
        "from deep_sort.deep_sort.tracker import Tracker\n",
        "from deep_sort.tools import generate_detections as gdet"
      ],
      "metadata": {
        "id": "rzyKm34RJscn"
      },
      "execution_count": null,
      "outputs": []
    },
    {
      "cell_type": "code",
      "source": [
        "class DeepSORT:\n",
        "    def __init__(\n",
        "        self,\n",
        "        model_path='resources/networks/mars-small128.pb',\n",
        "        max_cosine_distance = 0.7,\n",
        "        nn_budget = None,\n",
        "        classes=['objects']\n",
        "    ):\n",
        "\n",
        "        self.encoder = gdet.create_box_encoder(model_path, batch_size=1)\n",
        "        self.metric = nn_matching.NearestNeighborDistanceMetric('cosine',max_cosine_distance, nn_budget)\n",
        "        self.tracker = Tracker(self.metric)\n",
        "\n",
        "        key_list = []\n",
        "        val_list = []\n",
        "        for ID, class_name in enumerate(classes):\n",
        "            key_list.append(ID)\n",
        "            val_list.append(class_name)\n",
        "        self.key_list = key_list\n",
        "        self.val_list = val_list\n",
        "    def tracking(self, origin_frame, bboxes, scores, class_ids):\n",
        "        features = self.encoder(origin_frame, bboxes)\n",
        "\n",
        "        detections = [Detection(bbox, score, class_id, feature)\n",
        "            for bbox, score, class_id, feature in zip(bboxes,\n",
        "                                                      scores,\n",
        "                                                      class_ids,\n",
        "                                                      features)]\n",
        "\n",
        "        self.tracker.predict()\n",
        "        self.tracker.update(detections)\n",
        "\n",
        "        tracked_bboxes = []\n",
        "        for track in self.tracker.tracks:\n",
        "            if not track.is_confirmed() or track.time_since_update > 5:\n",
        "                continue\n",
        "            bbox = track.to_tlbr()\n",
        "            class_id = track.get_class()\n",
        "            conf_score = track.get_conf_score()\n",
        "            tracking_id = track.track_id\n",
        "            tracked_bboxes.append(\n",
        "                bbox.tolist() + [class_id, conf_score, tracking_id]\n",
        "            )\n",
        "\n",
        "        tracked_bboxes = np.array(tracked_bboxes)\n",
        "\n",
        "        return tracked_bboxes"
      ],
      "metadata": {
        "id": "GoH0QDjaJuQ4"
      },
      "execution_count": null,
      "outputs": []
    },
    {
      "cell_type": "markdown",
      "source": [
        "## Tracking inference"
      ],
      "metadata": {
        "id": "c2xHtAOgJzPY"
      }
    },
    {
      "cell_type": "code",
      "source": [
        "def draw_detection(img, bboxes, scores, class_ids, ids,\n",
        "                    classes=['objects'], mask_alpha=0.3):\n",
        "    height, width = img.shape[:2]\n",
        "    np.random.seed(0)\n",
        "    rng = np.random.default_rng(3)\n",
        "    colors = rng.uniform(0, 255, size=(len(classes), 3))\n",
        "\n",
        "    mask_img = img.copy()\n",
        "    det_img = img.copy()\n",
        "\n",
        "    size = min([height, width]) * 0.0006\n",
        "    text_thickness = int(min([height, width]) * 0.001)\n",
        "\n",
        "    # Draw bounding boxes and labels of detections\n",
        "    for bbox, score, class_id, id_ in zip(bboxes, scores, class_ids, ids):\n",
        "        color = colors[class_id]\n",
        "\n",
        "        x1, y1, x2, y2 = bbox.astype(int)\n",
        "\n",
        "        # Draw rectangle\n",
        "        cv2.rectangle(det_img, (x1, y1), (x2, y2), color, 2)\n",
        "        # Draw fill rectangle in mask image\n",
        "        cv2.rectangle(mask_img, (x1, y1), (x2, y2), color,-1)\n",
        "\n",
        "        label = classes[class_id]\n",
        "        caption = f'{label} {int(score * 100)}% ID: {id_}'\n",
        "        (tw, th), _ = cv2.getTextSize(text=caption,\n",
        "        fontFace=cv2.FONT_HERSHEY_SIMPLEX,\n",
        "        fontScale=size,\n",
        "        thickness=text_thickness)\n",
        "        th = int(th * 1.2)\n",
        "\n",
        "        cv2.rectangle(det_img, (x1, y1), (x1 + tw, y1-th), color,-1)\n",
        "        cv2.rectangle(mask_img, (x1, y1), (x1 + tw, y1-th), color,-1)\n",
        "        cv2.putText(det_img, caption, (x1, y1),\n",
        "                    cv2.FONT_HERSHEY_SIMPLEX, size,\n",
        "                    (255, 255, 255),\n",
        "                    text_thickness, cv2.LINE_AA)\n",
        "\n",
        "        cv2.putText(mask_img, caption, (x1, y1),\n",
        "                    cv2.FONT_HERSHEY_SIMPLEX, size,\n",
        "                    (255, 255, 255),\n",
        "                    text_thickness, cv2.LINE_AA)\n",
        "\n",
        "    return cv2.addWeighted(mask_img, mask_alpha, det_img, 1-mask_alpha, 0)"
      ],
      "metadata": {
        "id": "IKEqZmAzJ1wY"
      },
      "execution_count": null,
      "outputs": []
    },
    {
      "cell_type": "markdown",
      "source": [
        "## Tracking Video"
      ],
      "metadata": {
        "id": "RSj6w9ZWJ6y_"
      }
    },
    {
      "cell_type": "code",
      "source": [
        "def video_tracking(video_path, detector, tracker,\n",
        "                  is_save_result=False, save_dir='tracking_results'):\n",
        "    cap = cv2.VideoCapture(video_path)\n",
        "    width = int(cap.get(cv2.CAP_PROP_FRAME_WIDTH))\n",
        "    height = int(cap.get(cv2.CAP_PROP_FRAME_HEIGHT))\n",
        "\n",
        "    if is_save_result:\n",
        "        os.makedirs(save_dir, exist_ok=True)\n",
        "        # Get the video properties\n",
        "        fps = int(cap.get(cv2.CAP_PROP_FPS))\n",
        "\n",
        "        # Define the codec and create the video writer\n",
        "        fourcc = cv2.VideoWriter_fourcc(*’MJPG’)\n",
        "\n",
        "        save_result_name = ’output_video.avi’\n",
        "        save_result_path = os.path.join(save_dir, save_result_name)\n",
        "        out = cv2.VideoWriter(save_result_path, fourcc, fps, (width, height))\n",
        "\n",
        "\n",
        "    all_tracking_results = []\n",
        "    tracked_ids = np.array([], dtype=np.int32)\n",
        "    while True:\n",
        "        ret, frame = cap.read()\n",
        "\n",
        "        if not ret:\n",
        "            break\n",
        "\n",
        "        detector_results = detector.detect(frame)\n",
        "        bboxes, scores, class_ids = detector_results\n",
        "\n",
        "        tracker_pred = tracker.inference(\n",
        "            origin_frame=frame,\n",
        "            bboxes=bboxes,\n",
        "            scores=scores,\n",
        "            class_ids=class_ids\n",
        "        )\n",
        "        if tracker_pred.size > 0:\n",
        "            bboxes = tracker_pred[:, :4]\n",
        "            class_ids = tracker_pred[:, 4].astype(int)\n",
        "            conf_scores = tracker_pred[:, 5]\n",
        "            tracking_ids = tracker_pred[:, 6].astype(int)\n",
        "\n",
        "            # Get new tracking IDs\n",
        "            new_ids = np.setdiff1d(tracking_ids, tracked_ids)\n",
        "\n",
        "            # Store new tracking IDs\n",
        "            tracked_ids = np.concatenate((tracked_ids, new_ids))\n",
        "\n",
        "            result_img = draw_detection(\n",
        "                img=frame,\n",
        "                bboxes=bboxes,\n",
        "                scores=conf_scores,\n",
        "                class_ids=class_ids,\n",
        "                ids=tracking_ids\n",
        "            )\n",
        "        else:\n",
        "            result_img=frame\n",
        "\n",
        "        all_tracking_results.append(tracker_pred)\n",
        "\n",
        "        if is_save_result == 1:\n",
        "            out.write(result_img)\n",
        "\n",
        "        # Break the loop if ’q’ is pressed\n",
        "        if cv2.waitKey(25) & 0xFF == ord('q'):\n",
        "            break\n",
        "\n",
        "    # Release video capture\n",
        "    cap.release()\n",
        "    if is_save_result:\n",
        "        out.release()\n",
        "    cv2.destroyAllWindows()\n",
        "\n",
        "    return all_tracking_results"
      ],
      "metadata": {
        "id": "HUi1qauvJ8JH"
      },
      "execution_count": null,
      "outputs": []
    },
    {
      "cell_type": "markdown",
      "source": [
        "## Tracking"
      ],
      "metadata": {
        "id": "acruFXWxKAoB"
      }
    },
    {
      "cell_type": "code",
      "source": [
        "yolo_model_path = 'yolov8_mot_det.pt'\n",
        "\n",
        "detector = YOLOv8(yolo_model_path)\n",
        "tracker = DeepSORT()\n",
        "\n",
        "video_path = '/content/CityRoam.mp4'\n",
        "all_tracking_results = video_tracking(\n",
        "    video_path,\n",
        "    detector,\n",
        "    tracker,\n",
        "    is_save_result=True)"
      ],
      "metadata": {
        "id": "QlBrKahjKB6B"
      },
      "execution_count": null,
      "outputs": []
    },
    {
      "cell_type": "code",
      "source": [
        "from IPython.display import HTML\n",
        "from base64 import b64encode\n",
        "import os\n",
        "\n",
        "# Input video path\n",
        "output_video_path = 'tracking_results/output_video.avi'\n",
        "\n",
        "# Compressed video path\n",
        "compressed_path = 'tracking_results/result_compressed.mp4'\n",
        "\n",
        "os.system(f\"ffmpeg-i {output_video_path}-vcodec libx264 {compressed_path}\")"
      ],
      "metadata": {
        "id": "1t1dzqzNKI0u"
      },
      "execution_count": null,
      "outputs": []
    },
    {
      "cell_type": "code",
      "source": [
        "# Show video\n",
        "mp4 = open(compressed_path,'rb').read()\n",
        "data_url = \"data:video/mp4;base64,\" + b64encode(mp4).decode()\n",
        "HTML(\"\"\"\n",
        "<video width=600 controls>\n",
        "\n",
        " <source src=\"%s\" type=\"video/mp4\">\n",
        "</video>\n",
        "\"\"\" % data_url)"
      ],
      "metadata": {
        "id": "ENDnjN_uKNP6"
      },
      "execution_count": null,
      "outputs": []
    }
  ]
}